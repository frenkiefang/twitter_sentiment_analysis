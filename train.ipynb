{
  "nbformat": 4,
  "nbformat_minor": 0,
  "metadata": {
    "colab": {
      "provenance": [],
      "gpuType": "T4"
    },
    "kernelspec": {
      "name": "python3",
      "display_name": "Python 3"
    },
    "language_info": {
      "name": "python"
    },
    "accelerator": "GPU",
    "gpuClass": "standard"
  },
  "cells": [
    {
      "cell_type": "code",
      "source": [
        "from google.colab import drive\n",
        "drive.mount('/content/drive')"
      ],
      "metadata": {
        "colab": {
          "base_uri": "https://localhost:8080/"
        },
        "id": "g9SsQUkS6rpH",
        "outputId": "e3165cfd-0e39-481c-8215-0fdf587fe513"
      },
      "execution_count": null,
      "outputs": [
        {
          "output_type": "stream",
          "name": "stdout",
          "text": [
            "Drive already mounted at /content/drive; to attempt to forcibly remount, call drive.mount(\"/content/drive\", force_remount=True).\n"
          ]
        }
      ]
    },
    {
      "cell_type": "code",
      "execution_count": null,
      "metadata": {
        "id": "PAU6lnWVkRCz"
      },
      "outputs": [],
      "source": [
        "import re\n",
        "import os\n",
        "import numpy as np\n",
        "import pandas as pd\n",
        "import seaborn as sns\n",
        "import matplotlib.pyplot as plt\n",
        "from sklearn.model_selection import train_test_split\n",
        "from tensorflow.keras import callbacks\n",
        "from tensorflow.keras.preprocessing.sequence import pad_sequences\n",
        "from tensorflow.keras.preprocessing.text import Tokenizer\n",
        "from tensorflow.keras import Sequential\n",
        "from tensorflow.keras import layers\n",
        "from tensorflow.keras.optimizers import Adam\n",
        "from tensorflow.keras import regularizers"
      ]
    },
    {
      "cell_type": "code",
      "source": [
        "DATASET_COLUMNS=['target','ids','date','flag','user','text']\n",
        "DATASET_ENCODING = \"ISO-8859-1\"\n",
        "df = pd.read_csv('/content/drive/MyDrive/training.1600000.processed.noemoticon.csv', encoding=DATASET_ENCODING, names=DATASET_COLUMNS)\n",
        "df.sample(5)"
      ],
      "metadata": {
        "colab": {
          "base_uri": "https://localhost:8080/",
          "height": 206
        },
        "id": "2o6agZBAlY3A",
        "outputId": "9a23db70-40d4-496a-d0de-9527e24189e2"
      },
      "execution_count": null,
      "outputs": [
        {
          "output_type": "execute_result",
          "data": {
            "text/plain": [
              "         target         ids                          date      flag  \\\n",
              "875764        4  1680849729  Sat May 02 12:38:22 PDT 2009  NO_QUERY   \n",
              "699667        0  2254518687  Sat Jun 20 09:52:27 PDT 2009  NO_QUERY   \n",
              "1067301       4  1965468005  Fri May 29 15:58:32 PDT 2009  NO_QUERY   \n",
              "64119         0  1687931737  Sun May 03 09:56:33 PDT 2009  NO_QUERY   \n",
              "1248516       4  1995851703  Mon Jun 01 14:08:48 PDT 2009  NO_QUERY   \n",
              "\n",
              "                user                                               text  \n",
              "875764       hey2020  @mileycyrus Hey Miley I hope ur having a decen...  \n",
              "699667   xVictorx408              Just wole up. I hate waking up early   \n",
              "1067301  kotterpin55  @glennbeck Excited to see YOU and you're NOT o...  \n",
              "64119           b3xy         stupid computer why wont you play any cds   \n",
              "1248516    dylanwolf  @jarsofclay Just opened it up. First reaction:...  "
            ],
            "text/html": [
              "\n",
              "  <div id=\"df-45345127-405a-43bf-9ef1-a5d46f8a542b\">\n",
              "    <div class=\"colab-df-container\">\n",
              "      <div>\n",
              "<style scoped>\n",
              "    .dataframe tbody tr th:only-of-type {\n",
              "        vertical-align: middle;\n",
              "    }\n",
              "\n",
              "    .dataframe tbody tr th {\n",
              "        vertical-align: top;\n",
              "    }\n",
              "\n",
              "    .dataframe thead th {\n",
              "        text-align: right;\n",
              "    }\n",
              "</style>\n",
              "<table border=\"1\" class=\"dataframe\">\n",
              "  <thead>\n",
              "    <tr style=\"text-align: right;\">\n",
              "      <th></th>\n",
              "      <th>target</th>\n",
              "      <th>ids</th>\n",
              "      <th>date</th>\n",
              "      <th>flag</th>\n",
              "      <th>user</th>\n",
              "      <th>text</th>\n",
              "    </tr>\n",
              "  </thead>\n",
              "  <tbody>\n",
              "    <tr>\n",
              "      <th>875764</th>\n",
              "      <td>4</td>\n",
              "      <td>1680849729</td>\n",
              "      <td>Sat May 02 12:38:22 PDT 2009</td>\n",
              "      <td>NO_QUERY</td>\n",
              "      <td>hey2020</td>\n",
              "      <td>@mileycyrus Hey Miley I hope ur having a decen...</td>\n",
              "    </tr>\n",
              "    <tr>\n",
              "      <th>699667</th>\n",
              "      <td>0</td>\n",
              "      <td>2254518687</td>\n",
              "      <td>Sat Jun 20 09:52:27 PDT 2009</td>\n",
              "      <td>NO_QUERY</td>\n",
              "      <td>xVictorx408</td>\n",
              "      <td>Just wole up. I hate waking up early</td>\n",
              "    </tr>\n",
              "    <tr>\n",
              "      <th>1067301</th>\n",
              "      <td>4</td>\n",
              "      <td>1965468005</td>\n",
              "      <td>Fri May 29 15:58:32 PDT 2009</td>\n",
              "      <td>NO_QUERY</td>\n",
              "      <td>kotterpin55</td>\n",
              "      <td>@glennbeck Excited to see YOU and you're NOT o...</td>\n",
              "    </tr>\n",
              "    <tr>\n",
              "      <th>64119</th>\n",
              "      <td>0</td>\n",
              "      <td>1687931737</td>\n",
              "      <td>Sun May 03 09:56:33 PDT 2009</td>\n",
              "      <td>NO_QUERY</td>\n",
              "      <td>b3xy</td>\n",
              "      <td>stupid computer why wont you play any cds</td>\n",
              "    </tr>\n",
              "    <tr>\n",
              "      <th>1248516</th>\n",
              "      <td>4</td>\n",
              "      <td>1995851703</td>\n",
              "      <td>Mon Jun 01 14:08:48 PDT 2009</td>\n",
              "      <td>NO_QUERY</td>\n",
              "      <td>dylanwolf</td>\n",
              "      <td>@jarsofclay Just opened it up. First reaction:...</td>\n",
              "    </tr>\n",
              "  </tbody>\n",
              "</table>\n",
              "</div>\n",
              "      <button class=\"colab-df-convert\" onclick=\"convertToInteractive('df-45345127-405a-43bf-9ef1-a5d46f8a542b')\"\n",
              "              title=\"Convert this dataframe to an interactive table.\"\n",
              "              style=\"display:none;\">\n",
              "        \n",
              "  <svg xmlns=\"http://www.w3.org/2000/svg\" height=\"24px\"viewBox=\"0 0 24 24\"\n",
              "       width=\"24px\">\n",
              "    <path d=\"M0 0h24v24H0V0z\" fill=\"none\"/>\n",
              "    <path d=\"M18.56 5.44l.94 2.06.94-2.06 2.06-.94-2.06-.94-.94-2.06-.94 2.06-2.06.94zm-11 1L8.5 8.5l.94-2.06 2.06-.94-2.06-.94L8.5 2.5l-.94 2.06-2.06.94zm10 10l.94 2.06.94-2.06 2.06-.94-2.06-.94-.94-2.06-.94 2.06-2.06.94z\"/><path d=\"M17.41 7.96l-1.37-1.37c-.4-.4-.92-.59-1.43-.59-.52 0-1.04.2-1.43.59L10.3 9.45l-7.72 7.72c-.78.78-.78 2.05 0 2.83L4 21.41c.39.39.9.59 1.41.59.51 0 1.02-.2 1.41-.59l7.78-7.78 2.81-2.81c.8-.78.8-2.07 0-2.86zM5.41 20L4 18.59l7.72-7.72 1.47 1.35L5.41 20z\"/>\n",
              "  </svg>\n",
              "      </button>\n",
              "      \n",
              "  <style>\n",
              "    .colab-df-container {\n",
              "      display:flex;\n",
              "      flex-wrap:wrap;\n",
              "      gap: 12px;\n",
              "    }\n",
              "\n",
              "    .colab-df-convert {\n",
              "      background-color: #E8F0FE;\n",
              "      border: none;\n",
              "      border-radius: 50%;\n",
              "      cursor: pointer;\n",
              "      display: none;\n",
              "      fill: #1967D2;\n",
              "      height: 32px;\n",
              "      padding: 0 0 0 0;\n",
              "      width: 32px;\n",
              "    }\n",
              "\n",
              "    .colab-df-convert:hover {\n",
              "      background-color: #E2EBFA;\n",
              "      box-shadow: 0px 1px 2px rgba(60, 64, 67, 0.3), 0px 1px 3px 1px rgba(60, 64, 67, 0.15);\n",
              "      fill: #174EA6;\n",
              "    }\n",
              "\n",
              "    [theme=dark] .colab-df-convert {\n",
              "      background-color: #3B4455;\n",
              "      fill: #D2E3FC;\n",
              "    }\n",
              "\n",
              "    [theme=dark] .colab-df-convert:hover {\n",
              "      background-color: #434B5C;\n",
              "      box-shadow: 0px 1px 3px 1px rgba(0, 0, 0, 0.15);\n",
              "      filter: drop-shadow(0px 1px 2px rgba(0, 0, 0, 0.3));\n",
              "      fill: #FFFFFF;\n",
              "    }\n",
              "  </style>\n",
              "\n",
              "      <script>\n",
              "        const buttonEl =\n",
              "          document.querySelector('#df-45345127-405a-43bf-9ef1-a5d46f8a542b button.colab-df-convert');\n",
              "        buttonEl.style.display =\n",
              "          google.colab.kernel.accessAllowed ? 'block' : 'none';\n",
              "\n",
              "        async function convertToInteractive(key) {\n",
              "          const element = document.querySelector('#df-45345127-405a-43bf-9ef1-a5d46f8a542b');\n",
              "          const dataTable =\n",
              "            await google.colab.kernel.invokeFunction('convertToInteractive',\n",
              "                                                     [key], {});\n",
              "          if (!dataTable) return;\n",
              "\n",
              "          const docLinkHtml = 'Like what you see? Visit the ' +\n",
              "            '<a target=\"_blank\" href=https://colab.research.google.com/notebooks/data_table.ipynb>data table notebook</a>'\n",
              "            + ' to learn more about interactive tables.';\n",
              "          element.innerHTML = '';\n",
              "          dataTable['output_type'] = 'display_data';\n",
              "          await google.colab.output.renderOutput(dataTable, element);\n",
              "          const docLink = document.createElement('div');\n",
              "          docLink.innerHTML = docLinkHtml;\n",
              "          element.appendChild(docLink);\n",
              "        }\n",
              "      </script>\n",
              "    </div>\n",
              "  </div>\n",
              "  "
            ]
          },
          "metadata": {},
          "execution_count": 5
        }
      ]
    },
    {
      "cell_type": "code",
      "source": [
        "df.target.value_counts()"
      ],
      "metadata": {
        "colab": {
          "base_uri": "https://localhost:8080/"
        },
        "id": "l7ghUvHImAxE",
        "outputId": "c572d94a-5e8c-405a-f0e8-ec5ffae05155"
      },
      "execution_count": null,
      "outputs": [
        {
          "output_type": "execute_result",
          "data": {
            "text/plain": [
              "0    800000\n",
              "4    800000\n",
              "Name: target, dtype: int64"
            ]
          },
          "metadata": {},
          "execution_count": 8
        }
      ]
    },
    {
      "cell_type": "code",
      "source": [
        "ax = df.groupby('target').count().plot(kind='bar', title='Distribution of data',legend=False)\n",
        "ax.set_xticklabels(['Negative','Positive'], rotation=0)\n",
        "text, sentiment = list(df['text']), list(df['target'])"
      ],
      "metadata": {
        "colab": {
          "base_uri": "https://localhost:8080/",
          "height": 472
        },
        "id": "LQbLwIQ0lpu0",
        "outputId": "ef5bef39-1df5-45b6-ef4d-f90629c5431e"
      },
      "execution_count": null,
      "outputs": [
        {
          "output_type": "display_data",
          "data": {
            "text/plain": [
              "<Figure size 640x480 with 1 Axes>"
            ],
            "image/png": "[encoded data removed]"
          },
          "metadata": {}
        }
      ]
    },
    {
      "cell_type": "code",
      "source": [
        "data=df[['text','target']]\n",
        "data['target'] = data['target'].replace(4,1)\n",
        "data_pos = data[data['target'] == 1]\n",
        "data_neg = data[data['target'] == 0]\n",
        "data_pos = data_pos.iloc[:int(100000)]\n",
        "data_neg = data_neg.iloc[:int(100000)]\n",
        "dataset = pd.concat([data_pos, data_neg])\n",
        "dataset['text']=dataset['text'].str.lower()\n",
        "dataset['text'].sample(5)"
      ],
      "metadata": {
        "colab": {
          "base_uri": "https://localhost:8080/"
        },
        "id": "r9j1JYiDmS8s",
        "outputId": "829623bc-97eb-464e-bdfd-6c3d27891ed5"
      },
      "execution_count": null,
      "outputs": [
        {
          "output_type": "stream",
          "name": "stderr",
          "text": [
            "<ipython-input-6-deafdaad4382>:2: SettingWithCopyWarning: \n",
            "A value is trying to be set on a copy of a slice from a DataFrame.\n",
            "Try using .loc[row_indexer,col_indexer] = value instead\n",
            "\n",
            "See the caveats in the documentation: https://pandas.pydata.org/pandas-docs/stable/user_guide/indexing.html#returning-a-view-versus-a-copy\n",
            "  data['target'] = data['target'].replace(4,1)\n"
          ]
        },
        {
          "output_type": "execute_result",
          "data": {
            "text/plain": [
              "882369    i'm hungry ? ... think that i'm going to make ...\n",
              "843105    @stasia19 wanna be a good friend &amp; transla...\n",
              "886107    hi @halelrod tks and look forward to reading y...\n",
              "862794                              yupee!! we're creepy!! \n",
              "855576        @eatlikeagirl 17 types!!!!! wow - impressed. \n",
              "Name: text, dtype: object"
            ]
          },
          "metadata": {},
          "execution_count": 6
        }
      ]
    },
    {
      "cell_type": "code",
      "source": [
        "text=dataset['text']\n",
        "target=dataset['target']\n",
        "x_train, x_test, y_train, y_test = train_test_split(text,target,test_size=0.1,random_state=0,stratify=target)"
      ],
      "metadata": {
        "id": "tz742ztlrMDE"
      },
      "execution_count": null,
      "outputs": []
    },
    {
      "cell_type": "code",
      "source": [
        "max_features = 5000\n",
        "\n",
        "maxlen = 30\n",
        "batch_size = 32\n",
        "\n",
        "\n",
        "tokenizer=Tokenizer(max_features,oov_token=\"<?>\")\n",
        "tokenizer.fit_on_texts(x_train)\n",
        "X_train=tokenizer.texts_to_sequences(x_train)\n",
        "\n",
        "word_index = tokenizer.word_index\n",
        "print('Found %s unique tokens.' % len(word_index))\n",
        "\n",
        "X_test=tokenizer.texts_to_sequences(x_test)\n",
        "print(len(X_train), 'train sequences')\n",
        "print(len(X_test), 'test sequences')\n",
        "\n",
        "print('Pad sequences (samples x text length)')\n",
        "X_train = pad_sequences(X_train, maxlen=maxlen)\n",
        "X_test = pad_sequences(X_test, maxlen=maxlen)\n",
        "print('X_train shape:', X_train.shape)\n",
        "print('X_test shape:', X_test.shape)"
      ],
      "metadata": {
        "colab": {
          "base_uri": "https://localhost:8080/"
        },
        "id": "6mXOZF_zqC48",
        "outputId": "7ea2ed21-c13a-4b44-c734-a932881b4195"
      },
      "execution_count": null,
      "outputs": [
        {
          "output_type": "stream",
          "name": "stdout",
          "text": [
            "Found 139937 unique tokens.\n",
            "180000 train sequences\n",
            "20000 test sequences\n",
            "Pad sequences (samples x text length)\n",
            "X_train shape: (180000, 30)\n",
            "X_test shape: (20000, 30)\n"
          ]
        }
      ]
    },
    {
      "cell_type": "code",
      "source": [
        "glove_dir = '/content/drive/MyDrive/'\n",
        "\n",
        "embeddings_index = {}\n",
        "f = open(os.path.join(glove_dir, 'glove.6B.100d.txt'))\n",
        "for line in f:\n",
        "    values = line.split()\n",
        "    word = values[0]\n",
        "    coefs = np.asarray(values[1:], dtype='float32')\n",
        "    embeddings_index[word] = coefs\n",
        "f.close()\n",
        "\n",
        "print('Found %s word vectors.' % len(embeddings_index))"
      ],
      "metadata": {
        "colab": {
          "base_uri": "https://localhost:8080/"
        },
        "id": "SKMQsKZa4OBZ",
        "outputId": "76bc9710-2f9d-4d3e-82b6-b3ac79c0c088"
      },
      "execution_count": null,
      "outputs": [
        {
          "output_type": "stream",
          "name": "stdout",
          "text": [
            "Found 400000 word vectors.\n"
          ]
        }
      ]
    },
    {
      "cell_type": "code",
      "source": [
        "embedding_dim = 100 \n",
        "\n",
        "embedding_matrix = np.zeros((max_features, embedding_dim))\n",
        "for word, i in word_index.items():\n",
        "    embedding_vector = embeddings_index.get(word)\n",
        "    if i < max_features:\n",
        "        if embedding_vector is not None:\n",
        "\n",
        "            embedding_matrix[i] = embedding_vector"
      ],
      "metadata": {
        "id": "hbwzvb51zp2A"
      },
      "execution_count": null,
      "outputs": []
    },
    {
      "cell_type": "code",
      "source": [
        "model = Sequential()\n",
        "model.add(layers.Embedding(max_features, embedding_dim, input_length=maxlen))\n",
        "model.add(layers.Bidirectional(layers.LSTM(64,dropout=0.3,recurrent_dropout=0.3,return_sequences=True)))\n",
        "model.add(layers.Bidirectional(layers.LSTM(32,dropout=0.5,recurrent_dropout=0.5)))\n",
        "model.add(layers.Dense(16, kernel_regularizer=regularizers.l2(0.001), activation='relu'))\n",
        "model.add(layers.Dense(1, activation='sigmoid'))\n",
        "\n",
        "model.layers[0].set_weights([embedding_matrix])\n",
        "model.layers[0].trainable = False\n",
        "\n",
        "model.summary()"
      ],
      "metadata": {
        "colab": {
          "base_uri": "https://localhost:8080/"
        },
        "id": "gHYBjXAh1ISx",
        "outputId": "43e9bb74-7b14-4f02-f884-3f329bf37768"
      },
      "execution_count": null,
      "outputs": [
        {
          "output_type": "stream",
          "name": "stdout",
          "text": [
            "Model: \"sequential\"\n",
            "_________________________________________________________________\n",
            " Layer (type)                Output Shape              Param #   \n",
            "=================================================================\n",
            " embedding (Embedding)       (None, 30, 100)           500000    \n",
            "                                                                 \n",
            " bidirectional (Bidirectiona  (None, 30, 128)          84480     \n",
            " l)                                                              \n",
            "                                                                 \n",
            " bidirectional_1 (Bidirectio  (None, 64)               41216     \n",
            " nal)                                                            \n",
            "                                                                 \n",
            " dense (Dense)               (None, 16)                1040      \n",
            "                                                                 \n",
            " dense_1 (Dense)             (None, 1)                 17        \n",
            "                                                                 \n",
            "=================================================================\n",
            "Total params: 626,753\n",
            "Trainable params: 126,753\n",
            "Non-trainable params: 500,000\n",
            "_________________________________________________________________\n"
          ]
        }
      ]
    },
    {
      "cell_type": "code",
      "source": [
        "tokenizer.save('token.h5')"
      ],
      "metadata": {
        "colab": {
          "base_uri": "https://localhost:8080/",
          "height": 170
        },
        "id": "c2SJgUjErkLr",
        "outputId": "263bddf4-6727-4558-d884-7e12f9b51e2a"
      },
      "execution_count": null,
      "outputs": [
        {
          "output_type": "error",
          "ename": "AttributeError",
          "evalue": "ignored",
          "traceback": [
            "\u001b[0;31m---------------------------------------------------------------------------\u001b[0m",
            "\u001b[0;31mAttributeError\u001b[0m                            Traceback (most recent call last)",
            "\u001b[0;32m<ipython-input-12-edc4e7223e2d>\u001b[0m in \u001b[0;36m<cell line: 1>\u001b[0;34m()\u001b[0m\n\u001b[0;32m----> 1\u001b[0;31m \u001b[0mtokenizer\u001b[0m\u001b[0;34m.\u001b[0m\u001b[0msave\u001b[0m\u001b[0;34m(\u001b[0m\u001b[0;34m'token.h5'\u001b[0m\u001b[0;34m)\u001b[0m\u001b[0;34m\u001b[0m\u001b[0;34m\u001b[0m\u001b[0m\n\u001b[0m",
            "\u001b[0;31mAttributeError\u001b[0m: 'Tokenizer' object has no attribute 'save'"
          ]
        }
      ]
    },
    {
      "cell_type": "code",
      "source": [
        "Earlystop = callbacks.EarlyStopping(monitor='val_loss', patience=5)\n",
        "model.compile(optimizer='adam', loss='binary_crossentropy', metrics='accuracy')\n",
        "history = model.fit(X_train, y_train,\n",
        "                    epochs=30,\n",
        "                    batch_size=batch_size,\n",
        "                    validation_data=(X_test,y_test),\n",
        "                    callbacks = [Earlystop])"
      ],
      "metadata": {
        "colab": {
          "base_uri": "https://localhost:8080/"
        },
        "id": "h_EliFQs1K_X",
        "outputId": "976f5a54-ebdd-4ab2-fac6-fedea62dd192"
      },
      "execution_count": null,
      "outputs": [
        {
          "output_type": "stream",
          "name": "stdout",
          "text": [
            "Epoch 1/30\n",
            "5625/5625 [==============================] - 832s 146ms/step - loss: 0.5404 - accuracy: 0.7265 - val_loss: 0.4846 - val_accuracy: 0.7696\n",
            "Epoch 2/30\n",
            "5625/5625 [==============================] - 803s 143ms/step - loss: 0.4879 - accuracy: 0.7638 - val_loss: 0.4615 - val_accuracy: 0.7847\n",
            "Epoch 3/30\n",
            "5625/5625 [==============================] - 797s 142ms/step - loss: 0.4701 - accuracy: 0.7752 - val_loss: 0.4598 - val_accuracy: 0.7875\n",
            "Epoch 4/30\n",
            "5625/5625 [==============================] - 776s 138ms/step - loss: 0.4592 - accuracy: 0.7828 - val_loss: 0.4454 - val_accuracy: 0.7929\n",
            "Epoch 5/30\n",
            "5625/5625 [==============================] - 768s 137ms/step - loss: 0.4516 - accuracy: 0.7868 - val_loss: 0.4406 - val_accuracy: 0.7935\n",
            "Epoch 6/30\n",
            "5625/5625 [==============================] - 801s 142ms/step - loss: 0.4451 - accuracy: 0.7908 - val_loss: 0.4474 - val_accuracy: 0.7921\n",
            "Epoch 7/30\n",
            "5625/5625 [==============================] - 803s 143ms/step - loss: 0.4400 - accuracy: 0.7941 - val_loss: 0.4371 - val_accuracy: 0.7977\n",
            "Epoch 8/30\n",
            "5625/5625 [==============================] - 802s 143ms/step - loss: 0.4368 - accuracy: 0.7958 - val_loss: 0.4336 - val_accuracy: 0.8006\n",
            "Epoch 9/30\n",
            "5625/5625 [==============================] - 804s 143ms/step - loss: 0.4331 - accuracy: 0.7978 - val_loss: 0.4314 - val_accuracy: 0.8012\n",
            "Epoch 10/30\n",
            "5625/5625 [==============================] - 801s 142ms/step - loss: 0.4296 - accuracy: 0.8004 - val_loss: 0.4297 - val_accuracy: 0.8033\n",
            "Epoch 11/30\n",
            "5625/5625 [==============================] - 802s 143ms/step - loss: 0.4282 - accuracy: 0.8005 - val_loss: 0.4299 - val_accuracy: 0.8069\n",
            "Epoch 12/30\n",
            "5625/5625 [==============================] - 801s 142ms/step - loss: 0.4256 - accuracy: 0.8023 - val_loss: 0.4378 - val_accuracy: 0.8020\n",
            "Epoch 13/30\n",
            "5625/5625 [==============================] - 804s 143ms/step - loss: 0.4248 - accuracy: 0.8028 - val_loss: 0.4305 - val_accuracy: 0.8055\n",
            "Epoch 14/30\n",
            "5625/5625 [==============================] - 803s 143ms/step - loss: 0.4219 - accuracy: 0.8040 - val_loss: 0.4304 - val_accuracy: 0.8044\n",
            "Epoch 15/30\n",
            "5625/5625 [==============================] - 801s 142ms/step - loss: 0.4209 - accuracy: 0.8052 - val_loss: 0.4333 - val_accuracy: 0.8058\n"
          ]
        }
      ]
    },
    {
      "cell_type": "code",
      "source": [
        "import matplotlib.pyplot as plt\n",
        "accuracy = history.history['accuracy']\n",
        "val_accuracy = history.history['val_accuracy']\n",
        "\n",
        "epochs = range(1,16)\n",
        "\n",
        "plt.plot(epochs, accuracy, 'r', label='Training Accuracy')\n",
        "plt.plot(epochs, val_accuracy, 'b', label='Validation Accuracy')\n",
        "plt.title('Training and validation Accuracy')\n",
        "plt.legend()\n",
        "\n",
        "plt.show()"
      ],
      "metadata": {
        "colab": {
          "base_uri": "https://localhost:8080/",
          "height": 452
        },
        "id": "JFzd3Zzl1mPA",
        "outputId": "3d406ca0-5c2b-49a9-af0c-0030808662cf"
      },
      "execution_count": null,
      "outputs": [
        {
          "output_type": "display_data",
          "data": {
            "text/plain": [
              "<Figure size 640x480 with 1 Axes>"
            ],
            "image/png": "[encoded data removed]"
          },
          "metadata": {}
        }
      ]
    },
    {
      "cell_type": "code",
      "source": [
        "import pickle\n",
        "\n",
        "# saving\n",
        "with open('contents/drive/MyDrive/tokenizer.pickle', 'wb') as handle:\n",
        "    pickle.dump(tokenizer, handle, protocol=pickle.HIGHEST_PROTOCOL)\n",
        "\n",
        "# loading\n",
        "#with open('tokenizer.pickle', 'rb') as handle:\n",
        " #   tokenizer = pickle.load(handle)\n"
      ],
      "metadata": {
        "id": "-LRKIZmFsWbV"
      },
      "execution_count": null,
      "outputs": []
    },
    {
      "cell_type": "code",
      "source": [
        "model.save('contents/drive/MyDrive/twitter_sentiment.h5')"
      ],
      "metadata": {
        "id": "Tm8S4F3mslln"
      },
      "execution_count": null,
      "outputs": []
    }
  ]
}